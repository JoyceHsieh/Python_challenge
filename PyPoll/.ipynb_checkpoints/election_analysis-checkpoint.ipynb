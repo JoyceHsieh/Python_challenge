{
 "cells": [
  {
   "cell_type": "code",
   "execution_count": 28,
   "id": "center-notice",
   "metadata": {},
   "outputs": [],
   "source": [
    "import os\n",
    "import csv"
   ]
  },
  {
   "cell_type": "code",
   "execution_count": 29,
   "id": "painted-package",
   "metadata": {},
   "outputs": [],
   "source": [
    "voter_csv=os.path.join('election_data.csv')"
   ]
  },
  {
   "cell_type": "code",
   "execution_count": 30,
   "id": "cardiac-dealing",
   "metadata": {},
   "outputs": [],
   "source": [
    "vote_count = {}\n",
    "vote_per = {}\n",
    "vote_total = 0"
   ]
  },
  {
   "cell_type": "code",
   "execution_count": 31,
   "id": "electoral-lloyd",
   "metadata": {},
   "outputs": [],
   "source": [
    "with open(voter_csv, newline=\"\") as csvfile:\n",
    "    voterreader=csv.reader(csvfile, delimiter=\",\")\n",
    "\n",
    "    next (voterreader) #skip the heading\n",
    "    \n",
    "    for row in voterreader:\n",
    "        vote_total +=1\n",
    "        \n",
    "        if row[2] in vote_count:\n",
    "            vote_count[row[2]] +=1  #plus value\n",
    "        else:\n",
    "            vote_count[row[2]] = 1  # add the new key, value start from 1\n",
    "\n",
    "            "
   ]
  },
  {
   "cell_type": "code",
   "execution_count": 32,
   "id": "underlying-barbados",
   "metadata": {},
   "outputs": [
    {
     "name": "stdout",
     "output_type": "stream",
     "text": [
      "{'Khan': 2218231, 'Correy': 704200, 'Li': 492940, \"O'Tooley\": 105630}\n",
      "3521001\n"
     ]
    }
   ],
   "source": [
    "print(vote_count)\n",
    "print(vote_total)"
   ]
  },
  {
   "cell_type": "code",
   "execution_count": 33,
   "id": "round-server",
   "metadata": {},
   "outputs": [],
   "source": [
    "winner_count=0\n",
    "\n",
    "for candidate in vote_count:\n",
    "    vote_per[candidate]= (vote_count[candidate]/vote_total)*100   #key=value\n",
    "\n",
    "    if vote_count[candidate] > winner_count:\n",
    "        winner_count = vote_count[candidate]\n",
    "        winner= candidate\n"
   ]
  },
  {
   "cell_type": "code",
   "execution_count": 34,
   "id": "intermediate-puppy",
   "metadata": {},
   "outputs": [
    {
     "name": "stdout",
     "output_type": "stream",
     "text": [
      "{'Khan': 63.00001050837531, 'Correy': 19.999994319797125, 'Li': 13.999996023857989, \"O'Tooley\": 2.999999147969569}\n"
     ]
    }
   ],
   "source": [
    "print(vote_per)"
   ]
  },
  {
   "cell_type": "code",
   "execution_count": 35,
   "id": "forbidden-switzerland",
   "metadata": {},
   "outputs": [
    {
     "name": "stdout",
     "output_type": "stream",
     "text": [
      "Election Results\n",
      "-------------------------\n",
      "Total Votes: 3521001\n",
      "-------------------------\n",
      "Khan: 63.000% (2218231)\n",
      "Correy: 20.000% (704200)\n",
      "Li: 14.000% (492940)\n",
      "O'Tooley: 3.000% (105630)\n",
      "-------------------------\n",
      "Winner: Khan\n",
      "-------------------------\n"
     ]
    }
   ],
   "source": [
    "print(f'''Election Results\n",
    "-------------------------\n",
    "Total Votes: {vote_total}\n",
    "-------------------------''')\n",
    "\n",
    "for candidate, votes in vote_count.items():\n",
    "    print(f'''{candidate}: {vote_per[candidate]:.3f}% ({votes})''')\n",
    "\n",
    "print(f'''-------------------------\n",
    "Winner: {winner}\n",
    "-------------------------''')"
   ]
  },
  {
   "cell_type": "code",
   "execution_count": 36,
   "id": "relative-packaging",
   "metadata": {},
   "outputs": [],
   "source": [
    "results_path = os.path.join('election_results.txt')"
   ]
  },
  {
   "cell_type": "code",
   "execution_count": 37,
   "id": "arabic-prediction",
   "metadata": {},
   "outputs": [],
   "source": [
    "with open(results_path, 'w', newline=\"\") as txtfile:\n",
    "    txtfile.write(f'''\n",
    "Election Results\n",
    "-------------------------\n",
    "Total Votes: {vote_total}\n",
    "-------------------------\\n''')\n",
    "    \n",
    "    for candidate, votes in vote_count.items():\n",
    "        txtfile.write(f'{candidate}: {vote_per[candidate]:.3f}% ({votes})\\n')\n",
    "    \n",
    "    txtfile.write(f'''-------------------------\n",
    "Winner: {winner}\n",
    "-------------------------''')\n",
    "    \n",
    "    "
   ]
  },
  {
   "cell_type": "code",
   "execution_count": null,
   "id": "warming-quick",
   "metadata": {},
   "outputs": [],
   "source": []
  }
 ],
 "metadata": {
  "kernelspec": {
   "display_name": "Python 3",
   "language": "python",
   "name": "python3"
  },
  "language_info": {
   "codemirror_mode": {
    "name": "ipython",
    "version": 3
   },
   "file_extension": ".py",
   "mimetype": "text/x-python",
   "name": "python",
   "nbconvert_exporter": "python",
   "pygments_lexer": "ipython3",
   "version": "3.7.4"
  }
 },
 "nbformat": 4,
 "nbformat_minor": 5
}
