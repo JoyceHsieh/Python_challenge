{
 "cells": [
  {
   "cell_type": "code",
   "execution_count": 100,
   "id": "structured-welcome",
   "metadata": {},
   "outputs": [],
   "source": [
    "import os\n",
    "import csv"
   ]
  },
  {
   "cell_type": "code",
   "execution_count": 101,
   "id": "administrative-anaheim",
   "metadata": {},
   "outputs": [],
   "source": [
    "months=[]\n",
    "profit_loss=[]\n",
    "Average_changes=[]"
   ]
  },
  {
   "cell_type": "code",
   "execution_count": 102,
   "id": "relevant-taylor",
   "metadata": {},
   "outputs": [],
   "source": [
    "\n",
    "budget_csv=os.path.join('budget_data.csv')"
   ]
  },
  {
   "cell_type": "code",
   "execution_count": 103,
   "id": "nearby-agency",
   "metadata": {},
   "outputs": [
    {
     "name": "stdout",
     "output_type": "stream",
     "text": [
      "['Jan-2010', 'Feb-2010', 'Mar-2010', 'Apr-2010', 'May-2010', 'Jun-2010', 'Jul-2010', 'Aug-2010', 'Sep-2010', 'Oct-2010', 'Nov-2010', 'Dec-2010', 'Jan-2011', 'Feb-2011', 'Mar-2011', 'Apr-2011', 'May-2011', 'Jun-2011', 'Jul-2011', 'Aug-2011', 'Sep-2011', 'Oct-2011', 'Nov-2011', 'Dec-2011', 'Jan-2012', 'Feb-2012', 'Mar-2012', 'Apr-2012', 'May-2012', 'Jun-2012', 'Jul-2012', 'Aug-2012', 'Sep-2012', 'Oct-2012', 'Nov-2012', 'Dec-2012', 'Jan-2013', 'Feb-2013', 'Mar-2013', 'Apr-2013', 'May-2013', 'Jun-2013', 'Jul-2013', 'Aug-2013', 'Sep-2013', 'Oct-2013', 'Nov-2013', 'Dec-2013', 'Jan-2014', 'Feb-2014', 'Mar-2014', 'Apr-2014', 'May-2014', 'Jun-2014', 'Jul-2014', 'Aug-2014', 'Sep-2014', 'Oct-2014', 'Nov-2014', 'Dec-2014', 'Jan-2015', 'Feb-2015', 'Mar-2015', 'Apr-2015', 'May-2015', 'Jun-2015', 'Jul-2015', 'Aug-2015', 'Sep-2015', 'Oct-2015', 'Nov-2015', 'Dec-2015', 'Jan-2016', 'Feb-2016', 'Mar-2016', 'Apr-2016', 'May-2016', 'Jun-2016', 'Jul-2016', 'Aug-2016', 'Sep-2016', 'Oct-2016', 'Nov-2016', 'Dec-2016', 'Jan-2017', 'Feb-2017']\n",
      "[867884.0, 984655.0, 322013.0, -69417.0, 310503.0, 522857.0, 1033096.0, 604885.0, -216386.0, 477532.0, 893810.0, -80353.0, 779806.0, -335203.0, 697845.0, 793163.0, 485070.0, 584122.0, 62729.0, 668179.0, 899906.0, 834719.0, 132003.0, 309978.0, -755566.0, 1170593.0, 252788.0, 1151518.0, 817256.0, 570757.0, 506702.0, -1022534.0, 475062.0, 779976.0, 144175.0, 542494.0, 359333.0, 321469.0, 67780.0, 471435.0, 565603.0, 872480.0, 789480.0, 999942.0, -1196225.0, 268997.0, -687986.0, 1150461.0, 682458.0, 617856.0, 824098.0, 581943.0, 132864.0, 448062.0, 689161.0, 800701.0, 1166643.0, 947333.0, 578668.0, 988505.0, 1139715.0, 1029471.0, 687533.0, -524626.0, 158620.0, 87795.0, 423389.0, 840723.0, 568529.0, 332067.0, 989499.0, 778237.0, 650000.0, -1100387.0, -174946.0, 757143.0, 445709.0, 712961.0, -1163797.0, 569899.0, 768450.0, 102685.0, 795914.0, 60988.0, 138230.0, 671099.0]\n"
     ]
    }
   ],
   "source": [
    "with open(budget_csv, newline=\"\") as csvfile:\n",
    "    budget_reader = csv.reader(csvfile, delimiter=\",\")\n",
    "\n",
    "    next (budget_reader)  #skip the heading\n",
    "\n",
    "    for row in budget_reader:\n",
    "\n",
    "        months.append(row[0])\n",
    "        profit_loss.append(float(row[1]))\n",
    "print(months)\n",
    "print(profit_loss)"
   ]
  },
  {
   "cell_type": "code",
   "execution_count": 104,
   "id": "unlimited-trustee",
   "metadata": {},
   "outputs": [
    {
     "name": "stdout",
     "output_type": "stream",
     "text": [
      "86\n",
      "86\n"
     ]
    }
   ],
   "source": [
    "print(len(months))\n",
    "print(len(profit_loss))"
   ]
  },
  {
   "cell_type": "code",
   "execution_count": 105,
   "id": "forced-guinea",
   "metadata": {},
   "outputs": [],
   "source": [
    "for i in range(len(profit_loss)):\n",
    "    ac=profit_loss[i]-profit_loss[i-1]\n",
    "    Average_changes.append(ac)\n",
    "    \n"
   ]
  },
  {
   "cell_type": "code",
   "execution_count": 106,
   "id": "congressional-control",
   "metadata": {},
   "outputs": [
    {
     "data": {
      "text/plain": [
       "-2315.1176470588234"
      ]
     },
     "execution_count": 106,
     "metadata": {},
     "output_type": "execute_result"
    }
   ],
   "source": [
    "Average_changes[0]=0\n",
    "Count=len(Average_changes)-1\n",
    "sum(Average_changes)/Count"
   ]
  },
  {
   "cell_type": "code",
   "execution_count": 107,
   "id": "qualified-albert",
   "metadata": {},
   "outputs": [],
   "source": [
    "total_months=(len(months))\n",
    "net_amount= sum(profit_loss)\n",
    "avg_change= sum(Average_changes)/Count\n",
    "\n",
    "#Greatest Increase in Profits\n",
    "max_profit=max(Average_changes)\n",
    "index_max=Average_changes.index(max_profit)\n",
    "max_month= months[index_max]\n",
    "\n",
    "#Greatest Decrease in Profits\n",
    "min_profit=min(Average_changes)\n",
    "index_min=Average_changes.index(min_profit)\n",
    "min_month= months[index_min]"
   ]
  },
  {
   "cell_type": "code",
   "execution_count": 108,
   "id": "critical-buying",
   "metadata": {},
   "outputs": [
    {
     "name": "stdout",
     "output_type": "stream",
     "text": [
      "Financial Analysis\n",
      "----------------------------------\n",
      "Total Months: 86\n",
      "Total: $38382578.00\n",
      "Average Change: -2315.12\n",
      "Greatest Increase in Profits: Feb-2012 $1926159.00\n",
      "Greatest Decrease in Profits: Sep-2013 $-2196167.00\n"
     ]
    }
   ],
   "source": [
    "financial_analysis = (f'''Financial Analysis\n",
    "----------------------------------\n",
    "Total Months: {total_months}\n",
    "Total: ${net_amount:.2f}\n",
    "Average Change: {avg_change:.2f}\n",
    "Greatest Increase in Profits: {max_month} ${max_profit:.2f}\n",
    "Greatest Decrease in Profits: {min_month} ${min_profit:.2f}''')\n",
    "\n",
    "print(financial_analysis)"
   ]
  },
  {
   "cell_type": "code",
   "execution_count": 109,
   "id": "hearing-moisture",
   "metadata": {},
   "outputs": [],
   "source": [
    "Financial_file=os.path.join(\"inancial_analysis.csv\")\n",
    "with open(Financial_file, 'w') as datafile:\n",
    "    write=csv.writer(datafile)\n",
    "    write.writerow(financial_analysis)"
   ]
  },
  {
   "cell_type": "code",
   "execution_count": 110,
   "id": "narrow-colors",
   "metadata": {},
   "outputs": [],
   "source": [
    "\n",
    "#Create a .txt file containing the same analysis in the print out\n",
    "analysis = open('financial_analysis.txt', 'w')\n",
    "\n",
    "analysis.write(financial_analysis)\n",
    "\n",
    "analysis.close()"
   ]
  },
  {
   "cell_type": "code",
   "execution_count": null,
   "id": "unknown-patent",
   "metadata": {},
   "outputs": [],
   "source": []
  },
  {
   "cell_type": "code",
   "execution_count": null,
   "id": "persistent-upgrade",
   "metadata": {},
   "outputs": [],
   "source": []
  },
  {
   "cell_type": "code",
   "execution_count": null,
   "id": "systematic-compilation",
   "metadata": {},
   "outputs": [],
   "source": []
  },
  {
   "cell_type": "code",
   "execution_count": null,
   "id": "authorized-pastor",
   "metadata": {},
   "outputs": [],
   "source": []
  },
  {
   "cell_type": "code",
   "execution_count": null,
   "id": "confidential-intervention",
   "metadata": {},
   "outputs": [],
   "source": []
  },
  {
   "cell_type": "code",
   "execution_count": null,
   "id": "visible-velvet",
   "metadata": {},
   "outputs": [],
   "source": []
  }
 ],
 "metadata": {
  "kernelspec": {
   "display_name": "Python 3",
   "language": "python",
   "name": "python3"
  },
  "language_info": {
   "codemirror_mode": {
    "name": "ipython",
    "version": 3
   },
   "file_extension": ".py",
   "mimetype": "text/x-python",
   "name": "python",
   "nbconvert_exporter": "python",
   "pygments_lexer": "ipython3",
   "version": "3.7.4"
  }
 },
 "nbformat": 4,
 "nbformat_minor": 5
}
